{
 "cells": [
  {
   "cell_type": "markdown",
   "metadata": {},
   "source": [
    "## Задача 2\n",
    "На складе лежат разные фрукты в разном количестве.\n",
    "Нужно написать функцию, которая на вход принимает любое количество названий фруктов и их количество, а возвращает общее количество фруктов на складе."
   ]
  },
  {
   "cell_type": "code",
   "execution_count": 11,
   "metadata": {},
   "outputs": [
    {
     "data": {
      "text/plain": [
       "21"
      ]
     },
     "execution_count": 11,
     "metadata": {},
     "output_type": "execute_result"
    }
   ],
   "source": [
    "warehouse = {\"apples\" : 6, \"oranges\" : 12, \"pineapples\" : 3}\n",
    "\n",
    "def amount_fruit (fruits: dict) -> int:\n",
    "    count = 0\n",
    "    for fruit, quantity in fruits.items():\n",
    "        count += quantity\n",
    "    return count\n",
    "\n",
    "amount_fruit(warehouse)"
   ]
  },
  {
   "cell_type": "markdown",
   "metadata": {},
   "source": [
    "## Задача 3\n",
    "Дан список с затратами на рекламу. Но в данных есть ошибки, некоторые затраты имеют отрицательную величину. Удалите такие значения из списка и посчитайте суммарные затраты\n",
    "[100, 125, -90, 345, 655, -1, 0, 200].\n",
    "Используйте list comprehensions."
   ]
  },
  {
   "cell_type": "code",
   "execution_count": 12,
   "metadata": {},
   "outputs": [
    {
     "data": {
      "text/plain": [
       "1425"
      ]
     },
     "execution_count": 12,
     "metadata": {},
     "output_type": "execute_result"
    }
   ],
   "source": [
    "expenses = [100, 125, -90, 345, 655, -1, 0, 200]\n",
    "\n",
    "def remove_negative_num (exp: list) -> list:\n",
    "   new_exp =  [x for x in expenses if x >= 0]\n",
    "   return new_exp\n",
    "\n",
    "def sum_expenses (exp: list) -> int:\n",
    "   sum_exp = sum(exp)\n",
    "   return sum_exp\n",
    "\n",
    "sum_expenses(remove_negative_num(expenses))"
   ]
  },
  {
   "cell_type": "markdown",
   "metadata": {},
   "source": [
    "## Задача 4\n",
    "Даны два списка.\n",
    "Дата покупки\n",
    "['2021-09-14', '2021-12-15', '2021-09-08', '2021-12-05', '2021-10-09', '2021-09-30', '2021-12-22', '2021-11-29', '2021-12-24', '2021-11-26', '2021-10-27', '2021-12-18', '2021-11-09', '2021-11-23', '2021-09-27', '2021-10-02', '2021-12-27', '2021-09-20', '2021-12-13', '2021-11-01', '2021-11-09', '2021-12-06', '2021-12-08', '2021-10-09', '2021-10-31', '2021-09-30', '2021-11-09', '2021-12-13', '2021-10-26', '2021-12-09'].\n",
    "Суммы покупок по датам\n",
    "[1270, 8413, 9028, 3703, 5739, 4095, 295, 4944, 5723, 3701, 4471, 651, 7037, 4274, 6275, 4988, 6930, 2971, 6592, 2004, 2822, 519, 3406, 2732, 5015, 2008, 316, 6333, 5700, 2887]."
   ]
  },
  {
   "cell_type": "markdown",
   "metadata": {},
   "source": [
    "### 4.1\n",
    "Найдите, какая выручка у компании в ноябре.\n",
    "Используйте list comprehensions."
   ]
  },
  {
   "cell_type": "code",
   "execution_count": 24,
   "metadata": {},
   "outputs": [
    {
     "data": {
      "text/plain": [
       "15239"
      ]
     },
     "execution_count": 24,
     "metadata": {},
     "output_type": "execute_result"
    }
   ],
   "source": [
    "dates = ['2021-09-14', '2021-12-15', '2021-09-08', '2021-12-05', '2021-10-09', '2021-09-30', '2021-12-22', '2021-11-29', '2021-12-24', '2021-11-26', '2021-10-27', '2021-12-18', '2021-11-09', '2021-11-23', '2021-09-27', '2021-10-02', '2021-12-27', '2021-09-20', '2021-12-13', '2021-11-01', '2021-11-09', '2021-12-06', '2021-12-08', '2021-10-09', '2021-10-31', '2021-09-30', '2021-11-09', '2021-12-13', '2021-10-26', '2021-12-09']\n",
    "revenue = [1270, 8413, 9028, 3703, 5739, 4095, 295, 4944, 5723, 3701, 4471, 651, 7037, 4274, 6275, 4988, 6930, 2971, 6592, 2004, 2822, 519, 3406, 2732, 5015, 2008, 316, 6333, 5700, 2887]\n",
    "\n",
    "def create_dict (list1: list, list2: list) -> dict:\n",
    "    new_dict = {}\n",
    "    for item in range(len(list1)):\n",
    "        new_dict[list1[item]] = list2[item]\n",
    "    return new_dict\n",
    "\n",
    "revenue_dict = create_dict(dates, revenue)\n",
    "\n",
    "def revenue_november (rev: dict) -> int:\n",
    "    result = sum([v for k, v in rev.items() if k[0:7] == '2021-11'])\n",
    "    return result\n",
    "\n",
    "revenue_november(revenue_dict)"
   ]
  },
  {
   "cell_type": "markdown",
   "metadata": {},
   "source": [
    "### 4.2\n",
    "Найдите выручку компании в зависимости от месяца.\n",
    "Для этого напишите функцию, которая на вход принимает список с датами и список с выручкой, а на выходе словарь, где ключи - это месяцы, а значения - это выручка.\n",
    "Используйте аннотирование типов."
   ]
  },
  {
   "cell_type": "code",
   "execution_count": 25,
   "metadata": {},
   "outputs": [
    {
     "data": {
      "text/plain": [
       "{'09': 21552, '12': 38860, '10': 22906, '11': 15239}"
      ]
     },
     "execution_count": 25,
     "metadata": {},
     "output_type": "execute_result"
    }
   ],
   "source": [
    "dates = ['2021-09-14', '2021-12-15', '2021-09-08', '2021-12-05', '2021-10-09', '2021-09-30', '2021-12-22', '2021-11-29', '2021-12-24', '2021-11-26', '2021-10-27', '2021-12-18', '2021-11-09', '2021-11-23', '2021-09-27', '2021-10-02', '2021-12-27', '2021-09-20', '2021-12-13', '2021-11-01', '2021-11-09', '2021-12-06', '2021-12-08', '2021-10-09', '2021-10-31', '2021-09-30', '2021-11-09', '2021-12-13', '2021-10-26', '2021-12-09']\n",
    "revenue = [1270, 8413, 9028, 3703, 5739, 4095, 295, 4944, 5723, 3701, 4471, 651, 7037, 4274, 6275, 4988, 6930, 2971, 6592, 2004, 2822, 519, 3406, 2732, 5015, 2008, 316, 6333, 5700, 2887]\n",
    "\n",
    "def create_dict (list1: list, list2: list) -> dict:\n",
    "    new_dict = {}\n",
    "    for item in range(len(list1)):\n",
    "        new_dict[list1[item]] = list2[item]\n",
    "    return new_dict\n",
    "\n",
    "revenue_dict = create_dict(dates, revenue)\n",
    "\n",
    "def revenue_month (rev: dict) -> dict:\n",
    "    new_dict = {}\n",
    "    for k, v in rev.items():\n",
    "        month = k.split('-')[1]\n",
    "        if month in new_dict:\n",
    "            new_dict[month] += v\n",
    "        else:\n",
    "            new_dict[month] = v\n",
    "    return new_dict\n",
    "\n",
    "revenue_month(revenue_dict)"
   ]
  }
 ],
 "metadata": {
  "kernelspec": {
   "display_name": "Python 3",
   "language": "python",
   "name": "python3"
  },
  "language_info": {
   "codemirror_mode": {
    "name": "ipython",
    "version": 3
   },
   "file_extension": ".py",
   "mimetype": "text/x-python",
   "name": "python",
   "nbconvert_exporter": "python",
   "pygments_lexer": "ipython3",
   "version": "3.11.3"
  },
  "orig_nbformat": 4
 },
 "nbformat": 4,
 "nbformat_minor": 2
}
